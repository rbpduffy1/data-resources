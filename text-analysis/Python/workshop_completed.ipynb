{
 "cells": [
  {
   "cell_type": "markdown",
   "metadata": {},
   "source": [
    "# Text Analysis - Workshop Notebook"
   ]
  },
  {
   "cell_type": "markdown",
   "metadata": {},
   "source": [
    "Welcome to the completed notebook for the Text Analysis Workshop. In here, you'll find all the code presented in during the workshop, along with some comments and explanations. Feel free to review your answers after the workshop."
   ]
  },
  {
   "cell_type": "markdown",
   "metadata": {},
   "source": [
    "### Aims \n",
    "In this notebook, we'll be exploring tweets to @Apple. Our end-goal is to be able to extract the sentiment of each tweet (i.e, is the content of the tweet rather positive, neutral, or negative)? Along the way, we'll be introducing a collection of notions which will help us get there."
   ]
  },
  {
   "cell_type": "markdown",
   "metadata": {},
   "source": [
    "### Agenda \n",
    "In this workshop, we will:\n",
    "* Load, explore, and perform some basic manipulations on text data\n",
    "* Pre-process the data; in particular, we'll be looking at:\n",
    "    * Normalisation considerations\n",
    "    * Tokenization strategies\n",
    "    * Stopwords removal\n",
    "* Extract sentiment (or *polarity*) from our processed tweets\n",
    "* Demonstrate ways to visualise sentiment and tokens"
   ]
  },
  {
   "cell_type": "markdown",
   "metadata": {},
   "source": [
    "### Data"
   ]
  },
  {
   "cell_type": "markdown",
   "metadata": {},
   "source": [
    "We will be using a collection of 9000+ tweets scraped using the Twitter API. In addition to the raw tweet, each entry in the dataset contains additional information - number of likes, number of retweets, username of the author, etc. The data can be found [here](https://github.com/DecodedCo/data-resources/tree/master/text-analysis)."
   ]
  },
  {
   "cell_type": "markdown",
   "metadata": {},
   "source": [
    "## Libraries"
   ]
  },
  {
   "cell_type": "code",
   "execution_count": 1,
   "metadata": {},
   "outputs": [],
   "source": [
    "import nltk  # our go-to tool for text analysis\n",
    "import pandas as pd  # for imports and data manipulation\n",
    "import re  # for regular expression filtering\n",
    "from nltk.sentiment.vader import SentimentIntensityAnalyzer  # sentiment analysis tool\n",
    "import seaborn as sns  # for plotting\n",
    "from collections import Counter  # for word frequencies\n",
    "import matplotlib.pyplot as plt  # for visualisation\n",
    "from pandas.core.common import flatten  # used to collapse lists of lists"
   ]
  },
  {
   "cell_type": "code",
   "execution_count": 2,
   "metadata": {},
   "outputs": [],
   "source": [
    "# ignore warnings\n",
    "import warnings\n",
    "warnings.filterwarnings(\"ignore\")"
   ]
  },
  {
   "cell_type": "markdown",
   "metadata": {},
   "source": [
    "## Data sourcing"
   ]
  },
  {
   "cell_type": "code",
   "execution_count": 3,
   "metadata": {},
   "outputs": [],
   "source": [
    "# raw tweets\n",
    "df = pd.read_csv('apple_tweets.csv')"
   ]
  },
  {
   "cell_type": "markdown",
   "metadata": {},
   "source": [
    "## Data exploration"
   ]
  },
  {
   "cell_type": "code",
   "execution_count": 4,
   "metadata": {},
   "outputs": [
    {
     "data": {
      "text/html": [
       "<div>\n",
       "<style scoped>\n",
       "    .dataframe tbody tr th:only-of-type {\n",
       "        vertical-align: middle;\n",
       "    }\n",
       "\n",
       "    .dataframe tbody tr th {\n",
       "        vertical-align: top;\n",
       "    }\n",
       "\n",
       "    .dataframe thead th {\n",
       "        text-align: right;\n",
       "    }\n",
       "</style>\n",
       "<table border=\"1\" class=\"dataframe\">\n",
       "  <thead>\n",
       "    <tr style=\"text-align: right;\">\n",
       "      <th></th>\n",
       "      <th>user_id</th>\n",
       "      <th>status_id</th>\n",
       "      <th>created_at</th>\n",
       "      <th>screen_name</th>\n",
       "      <th>text</th>\n",
       "      <th>source</th>\n",
       "      <th>display_text_width</th>\n",
       "      <th>reply_to_status_id</th>\n",
       "      <th>reply_to_user_id</th>\n",
       "      <th>reply_to_screen_name</th>\n",
       "      <th>...</th>\n",
       "      <th>statuses_count</th>\n",
       "      <th>favourites_count</th>\n",
       "      <th>account_created_at</th>\n",
       "      <th>verified</th>\n",
       "      <th>profile_url</th>\n",
       "      <th>profile_expanded_url</th>\n",
       "      <th>account_lang</th>\n",
       "      <th>profile_banner_url</th>\n",
       "      <th>profile_background_url</th>\n",
       "      <th>profile_image_url</th>\n",
       "    </tr>\n",
       "  </thead>\n",
       "  <tbody>\n",
       "    <tr>\n",
       "      <th>4546</th>\n",
       "      <td>1.213782e+08</td>\n",
       "      <td>1.090000e+18</td>\n",
       "      <td>1548755769</td>\n",
       "      <td>varindiamag</td>\n",
       "      <td>Red alert for #Apple Devices Using #FaceTime a...</td>\n",
       "      <td>Twitter Web Client</td>\n",
       "      <td>184</td>\n",
       "      <td>NaN</td>\n",
       "      <td>NaN</td>\n",
       "      <td>NaN</td>\n",
       "      <td>...</td>\n",
       "      <td>32503</td>\n",
       "      <td>7966</td>\n",
       "      <td>1268126666</td>\n",
       "      <td>False</td>\n",
       "      <td>http://t.co/Z5f68dSULl</td>\n",
       "      <td>http://www.varindia.com</td>\n",
       "      <td>en</td>\n",
       "      <td>https://pbs.twimg.com/profile_banners/12137819...</td>\n",
       "      <td>http://abs.twimg.com/images/themes/theme3/bg.gif</td>\n",
       "      <td>http://pbs.twimg.com/profile_images/6096378994...</td>\n",
       "    </tr>\n",
       "    <tr>\n",
       "      <th>1078</th>\n",
       "      <td>8.800000e+17</td>\n",
       "      <td>1.090000e+18</td>\n",
       "      <td>1548831741</td>\n",
       "      <td>GetSlayedByKass</td>\n",
       "      <td>@Apple Can y’all send me some money so I can s...</td>\n",
       "      <td>Twitter for iPhone</td>\n",
       "      <td>83</td>\n",
       "      <td>1.090000e+18</td>\n",
       "      <td>380749300.0</td>\n",
       "      <td>Apple</td>\n",
       "      <td>...</td>\n",
       "      <td>530</td>\n",
       "      <td>222</td>\n",
       "      <td>1498620575</td>\n",
       "      <td>False</td>\n",
       "      <td>https://t.co/73bdsatsQH</td>\n",
       "      <td>http://www.instagram.com/getslayedbykass</td>\n",
       "      <td>en</td>\n",
       "      <td>https://pbs.twimg.com/profile_banners/87990458...</td>\n",
       "      <td>NaN</td>\n",
       "      <td>http://pbs.twimg.com/profile_images/1062330223...</td>\n",
       "    </tr>\n",
       "    <tr>\n",
       "      <th>8892</th>\n",
       "      <td>4.837672e+07</td>\n",
       "      <td>1.090000e+18</td>\n",
       "      <td>1548613474</td>\n",
       "      <td>jeffbeartooth</td>\n",
       "      <td>the touchbar is trash @apple https://t.co/Uxdv...</td>\n",
       "      <td>Twitter for iPhone</td>\n",
       "      <td>28</td>\n",
       "      <td>NaN</td>\n",
       "      <td>NaN</td>\n",
       "      <td>NaN</td>\n",
       "      <td>...</td>\n",
       "      <td>1498</td>\n",
       "      <td>1745</td>\n",
       "      <td>1245337624</td>\n",
       "      <td>False</td>\n",
       "      <td>https://t.co/Ktlfsrss5l</td>\n",
       "      <td>http://www.beartooth.com</td>\n",
       "      <td>en</td>\n",
       "      <td>https://pbs.twimg.com/profile_banners/48376715...</td>\n",
       "      <td>http://abs.twimg.com/images/themes/theme5/bg.gif</td>\n",
       "      <td>http://pbs.twimg.com/profile_images/1008409790...</td>\n",
       "    </tr>\n",
       "  </tbody>\n",
       "</table>\n",
       "<p>3 rows × 88 columns</p>\n",
       "</div>"
      ],
      "text/plain": [
       "           user_id     status_id  created_at      screen_name  \\\n",
       "4546  1.213782e+08  1.090000e+18  1548755769      varindiamag   \n",
       "1078  8.800000e+17  1.090000e+18  1548831741  GetSlayedByKass   \n",
       "8892  4.837672e+07  1.090000e+18  1548613474    jeffbeartooth   \n",
       "\n",
       "                                                   text              source  \\\n",
       "4546  Red alert for #Apple Devices Using #FaceTime a...  Twitter Web Client   \n",
       "1078  @Apple Can y’all send me some money so I can s...  Twitter for iPhone   \n",
       "8892  the touchbar is trash @apple https://t.co/Uxdv...  Twitter for iPhone   \n",
       "\n",
       "      display_text_width  reply_to_status_id  reply_to_user_id  \\\n",
       "4546                 184                 NaN               NaN   \n",
       "1078                  83        1.090000e+18       380749300.0   \n",
       "8892                  28                 NaN               NaN   \n",
       "\n",
       "     reply_to_screen_name  ...  statuses_count  favourites_count  \\\n",
       "4546                  NaN  ...           32503              7966   \n",
       "1078                Apple  ...             530               222   \n",
       "8892                  NaN  ...            1498              1745   \n",
       "\n",
       "      account_created_at  verified              profile_url  \\\n",
       "4546          1268126666     False   http://t.co/Z5f68dSULl   \n",
       "1078          1498620575     False  https://t.co/73bdsatsQH   \n",
       "8892          1245337624     False  https://t.co/Ktlfsrss5l   \n",
       "\n",
       "                          profile_expanded_url account_lang  \\\n",
       "4546                   http://www.varindia.com           en   \n",
       "1078  http://www.instagram.com/getslayedbykass           en   \n",
       "8892                  http://www.beartooth.com           en   \n",
       "\n",
       "                                     profile_banner_url  \\\n",
       "4546  https://pbs.twimg.com/profile_banners/12137819...   \n",
       "1078  https://pbs.twimg.com/profile_banners/87990458...   \n",
       "8892  https://pbs.twimg.com/profile_banners/48376715...   \n",
       "\n",
       "                                profile_background_url  \\\n",
       "4546  http://abs.twimg.com/images/themes/theme3/bg.gif   \n",
       "1078                                               NaN   \n",
       "8892  http://abs.twimg.com/images/themes/theme5/bg.gif   \n",
       "\n",
       "                                      profile_image_url  \n",
       "4546  http://pbs.twimg.com/profile_images/6096378994...  \n",
       "1078  http://pbs.twimg.com/profile_images/1062330223...  \n",
       "8892  http://pbs.twimg.com/profile_images/1008409790...  \n",
       "\n",
       "[3 rows x 88 columns]"
      ]
     },
     "execution_count": 4,
     "metadata": {},
     "output_type": "execute_result"
    }
   ],
   "source": [
    "# have a look at the data\n",
    "df.sample(3)"
   ]
  },
  {
   "cell_type": "code",
   "execution_count": 5,
   "metadata": {},
   "outputs": [
    {
     "data": {
      "text/plain": [
       "(9991, 88)"
      ]
     },
     "execution_count": 5,
     "metadata": {},
     "output_type": "execute_result"
    }
   ],
   "source": [
    "# check how much data we have\n",
    "df.shape"
   ]
  },
  {
   "cell_type": "code",
   "execution_count": 6,
   "metadata": {},
   "outputs": [
    {
     "name": "stdout",
     "output_type": "stream",
     "text": [
      "<class 'pandas.core.frame.DataFrame'>\n",
      "RangeIndex: 9991 entries, 0 to 9990\n",
      "Data columns (total 88 columns):\n",
      " #   Column                   Non-Null Count  Dtype  \n",
      "---  ------                   --------------  -----  \n",
      " 0   user_id                  9991 non-null   float64\n",
      " 1   status_id                9991 non-null   float64\n",
      " 2   created_at               9991 non-null   int64  \n",
      " 3   screen_name              9991 non-null   object \n",
      " 4   text                     9991 non-null   object \n",
      " 5   source                   9991 non-null   object \n",
      " 6   display_text_width       9991 non-null   int64  \n",
      " 7   reply_to_status_id       4382 non-null   float64\n",
      " 8   reply_to_user_id         5988 non-null   float64\n",
      " 9   reply_to_screen_name     5988 non-null   object \n",
      " 10  is_quote                 9991 non-null   bool   \n",
      " 11  is_retweet               9991 non-null   bool   \n",
      " 12  favorite_count           9991 non-null   int64  \n",
      " 13  retweet_count            9991 non-null   int64  \n",
      " 14  hashtags                 2177 non-null   object \n",
      " 15  symbols                  37 non-null     object \n",
      " 16  urls_url                 2004 non-null   object \n",
      " 17  urls_t.co                2004 non-null   object \n",
      " 18  urls_expanded_url        2004 non-null   object \n",
      " 19  media_url                1472 non-null   object \n",
      " 20  media_t.co               1472 non-null   object \n",
      " 21  media_expanded_url       1472 non-null   object \n",
      " 22  media_type               1472 non-null   object \n",
      " 23  ext_media_url            1472 non-null   object \n",
      " 24  ext_media_t.co           1472 non-null   object \n",
      " 25  ext_media_expanded_url   1472 non-null   object \n",
      " 26  ext_media_type           0 non-null      float64\n",
      " 27  mentions_user_id         9991 non-null   object \n",
      " 28  mentions_screen_name     9991 non-null   object \n",
      " 29  lang                     9991 non-null   object \n",
      " 30  quoted_status_id         701 non-null    float64\n",
      " 31  quoted_text              701 non-null    object \n",
      " 32  quoted_created_at        701 non-null    float64\n",
      " 33  quoted_source            701 non-null    object \n",
      " 34  quoted_favorite_count    701 non-null    float64\n",
      " 35  quoted_retweet_count     701 non-null    float64\n",
      " 36  quoted_user_id           701 non-null    float64\n",
      " 37  quoted_screen_name       701 non-null    object \n",
      " 38  quoted_name              701 non-null    object \n",
      " 39  quoted_followers_count   701 non-null    float64\n",
      " 40  quoted_friends_count     701 non-null    float64\n",
      " 41  quoted_statuses_count    701 non-null    float64\n",
      " 42  quoted_location          610 non-null    object \n",
      " 43  quoted_description       693 non-null    object \n",
      " 44  quoted_verified          701 non-null    object \n",
      " 45  retweet_status_id        0 non-null      float64\n",
      " 46  retweet_text             0 non-null      float64\n",
      " 47  retweet_created_at       0 non-null      float64\n",
      " 48  retweet_source           0 non-null      float64\n",
      " 49  retweet_favorite_count   0 non-null      float64\n",
      " 50  retweet_retweet_count    0 non-null      float64\n",
      " 51  retweet_user_id          0 non-null      float64\n",
      " 52  retweet_screen_name      0 non-null      float64\n",
      " 53  retweet_name             0 non-null      float64\n",
      " 54  retweet_followers_count  0 non-null      float64\n",
      " 55  retweet_friends_count    0 non-null      float64\n",
      " 56  retweet_statuses_count   0 non-null      float64\n",
      " 57  retweet_location         0 non-null      float64\n",
      " 58  retweet_description      0 non-null      float64\n",
      " 59  retweet_verified         0 non-null      float64\n",
      " 60  place_url                766 non-null    object \n",
      " 61  place_name               766 non-null    object \n",
      " 62  place_full_name          766 non-null    object \n",
      " 63  place_type               766 non-null    object \n",
      " 64  country                  757 non-null    object \n",
      " 65  country_code             757 non-null    object \n",
      " 66  geo_coords               9991 non-null   object \n",
      " 67  coords_coords            9991 non-null   object \n",
      " 68  bbox_coords              9991 non-null   object \n",
      " 69  status_url               9991 non-null   object \n",
      " 70  name                     9991 non-null   object \n",
      " 71  location                 7886 non-null   object \n",
      " 72  description              8672 non-null   object \n",
      " 73  url                      4445 non-null   object \n",
      " 74  protected                9991 non-null   bool   \n",
      " 75  followers_count          9991 non-null   int64  \n",
      " 76  friends_count            9991 non-null   int64  \n",
      " 77  listed_count             9991 non-null   int64  \n",
      " 78  statuses_count           9991 non-null   int64  \n",
      " 79  favourites_count         9991 non-null   int64  \n",
      " 80  account_created_at       9991 non-null   int64  \n",
      " 81  verified                 9991 non-null   bool   \n",
      " 82  profile_url              4445 non-null   object \n",
      " 83  profile_expanded_url     4438 non-null   object \n",
      " 84  account_lang             9991 non-null   object \n",
      " 85  profile_banner_url       8595 non-null   object \n",
      " 86  profile_background_url   8160 non-null   object \n",
      " 87  profile_image_url        9991 non-null   object \n",
      "dtypes: bool(4), float64(28), int64(10), object(46)\n",
      "memory usage: 6.4+ MB\n"
     ]
    }
   ],
   "source": [
    "# get basic info about data\n",
    "df.info()"
   ]
  },
  {
   "cell_type": "code",
   "execution_count": 7,
   "metadata": {},
   "outputs": [],
   "source": [
    "# keep only the columns of interest\n",
    "data = df[['user_id', 'screen_name', 'text', 'retweet_count', 'favorite_count', 'verified']]"
   ]
  },
  {
   "cell_type": "markdown",
   "metadata": {},
   "source": [
    "### Challenge: extracting some basic statistics from our data\n",
    "\n",
    "Display:\n",
    "\n",
    "1. The tweet with the highest number of retweets\n",
    "2. The number of tweets posted from verified accounts\n",
    "3. The most common screen name\n",
    "4. The number of tweets with more than 50 likes (`favourite_count`)"
   ]
  },
  {
   "cell_type": "code",
   "execution_count": 8,
   "metadata": {},
   "outputs": [
    {
     "data": {
      "text/html": [
       "<div>\n",
       "<style scoped>\n",
       "    .dataframe tbody tr th:only-of-type {\n",
       "        vertical-align: middle;\n",
       "    }\n",
       "\n",
       "    .dataframe tbody tr th {\n",
       "        vertical-align: top;\n",
       "    }\n",
       "\n",
       "    .dataframe thead th {\n",
       "        text-align: right;\n",
       "    }\n",
       "</style>\n",
       "<table border=\"1\" class=\"dataframe\">\n",
       "  <thead>\n",
       "    <tr style=\"text-align: right;\">\n",
       "      <th></th>\n",
       "      <th>user_id</th>\n",
       "      <th>screen_name</th>\n",
       "      <th>text</th>\n",
       "      <th>retweet_count</th>\n",
       "      <th>favorite_count</th>\n",
       "      <th>verified</th>\n",
       "    </tr>\n",
       "  </thead>\n",
       "  <tbody>\n",
       "    <tr>\n",
       "      <th>9039</th>\n",
       "      <td>3.216702e+09</td>\n",
       "      <td>Bo0mh4cks</td>\n",
       "      <td>If iOS 13 looks like this, I’d be happy. *My O...</td>\n",
       "      <td>206</td>\n",
       "      <td>563</td>\n",
       "      <td>False</td>\n",
       "    </tr>\n",
       "  </tbody>\n",
       "</table>\n",
       "</div>"
      ],
      "text/plain": [
       "           user_id screen_name  \\\n",
       "9039  3.216702e+09   Bo0mh4cks   \n",
       "\n",
       "                                                   text  retweet_count  \\\n",
       "9039  If iOS 13 looks like this, I’d be happy. *My O...            206   \n",
       "\n",
       "      favorite_count  verified  \n",
       "9039             563     False  "
      ]
     },
     "execution_count": 8,
     "metadata": {},
     "output_type": "execute_result"
    }
   ],
   "source": [
    "# 1. Tweet with the highest number of retweets\n",
    "data[data['retweet_count'] == data['retweet_count'].max()]"
   ]
  },
  {
   "cell_type": "code",
   "execution_count": 9,
   "metadata": {},
   "outputs": [
    {
     "name": "stdout",
     "output_type": "stream",
     "text": [
      "340\n"
     ]
    }
   ],
   "source": [
    "# 2. Number of tweets posted from verified accounts\n",
    "print(sum(data['verified']))"
   ]
  },
  {
   "cell_type": "code",
   "execution_count": 10,
   "metadata": {},
   "outputs": [
    {
     "name": "stdout",
     "output_type": "stream",
     "text": [
      "Chappers2013\n"
     ]
    }
   ],
   "source": [
    "# 3. Most common screen name\n",
    "print(data['screen_name'].value_counts().index[0])"
   ]
  },
  {
   "cell_type": "code",
   "execution_count": 11,
   "metadata": {},
   "outputs": [
    {
     "name": "stdout",
     "output_type": "stream",
     "text": [
      "36\n"
     ]
    }
   ],
   "source": [
    "# 4. Number of tweets with more than 50 likes\n",
    "print(data[data['favorite_count'] > 50].shape[0])"
   ]
  },
  {
   "cell_type": "code",
   "execution_count": 12,
   "metadata": {},
   "outputs": [
    {
     "data": {
      "text/plain": [
       "'✨🍎@Apple : Apple was warned about the FaceTime eavesdropping bug last week https://t.co/zry3BCizbj #Tech #Apple $AAPL #Technology #TechNews https://t.co/ip8dhXg48K'"
      ]
     },
     "execution_count": 12,
     "metadata": {},
     "output_type": "execute_result"
    }
   ],
   "source": [
    "# an interesting tweet\n",
    "data['text'][680]"
   ]
  },
  {
   "cell_type": "markdown",
   "metadata": {},
   "source": [
    "## Data processing"
   ]
  },
  {
   "cell_type": "markdown",
   "metadata": {},
   "source": [
    "### 0. Normalisation"
   ]
  },
  {
   "cell_type": "markdown",
   "metadata": {},
   "source": [
    "In the following, we'll be using some regular expressions to filter text and extract patterns. Feel free to refer to [this regex cheat sheet](https://www.dataquest.io/blog/regex-cheatsheet/) in a new tab!"
   ]
  },
  {
   "cell_type": "code",
   "execution_count": 13,
   "metadata": {},
   "outputs": [],
   "source": [
    "text = \"Hello @apple, can you please roll out that new feature that @samsung has? #thankyou #apple #samsung\""
   ]
  },
  {
   "cell_type": "code",
   "execution_count": 14,
   "metadata": {},
   "outputs": [
    {
     "name": "stdout",
     "output_type": "stream",
     "text": [
      "Hello , can you please roll out that new feature that  has? #thankyou #apple #samsung\n"
     ]
    }
   ],
   "source": [
    "# remove mentions using regular expressions\n",
    "text = re.sub('@[\\w]+', '', text)\n",
    "print(text)"
   ]
  },
  {
   "cell_type": "code",
   "execution_count": 15,
   "metadata": {},
   "outputs": [
    {
     "name": "stdout",
     "output_type": "stream",
     "text": [
      "Hello , can you please roll out that new feature that  has?   \n"
     ]
    }
   ],
   "source": [
    "# remove hashtags using regular expressions\n",
    "text = re.sub('#[\\w]+', '', text)\n",
    "print(text)"
   ]
  },
  {
   "cell_type": "code",
   "execution_count": 16,
   "metadata": {},
   "outputs": [],
   "source": [
    "# define a function that removes hashtags, mentions, and stock names, as well as links and special characters\n",
    "\n",
    "def regex_cleaner(text):\n",
    "    # remove hashtags (#apple), mentions (@Apple) and stock names ($AAPL)\n",
    "    result = re.sub('[@#\\$][\\w]+', '', text)\n",
    "    \n",
    "    # remove links of the form https://t.co/...\n",
    "    result = re.sub('(https:\\/\\/t\\.co\\/)[\\w]+', '', result)\n",
    "    \n",
    "    # remove non-alphanumeric characters (notably emojis)\n",
    "    result = re.sub('\\W', ' ', result)\n",
    "    \n",
    "    # remove extra whitespaces and return final result\n",
    "    return re.sub('\\s+', ' ', result)"
   ]
  },
  {
   "cell_type": "code",
   "execution_count": 17,
   "metadata": {},
   "outputs": [],
   "source": [
    "# apply regex filtering to each tweet\n",
    "# we'll preserve the 'text' column exactly as it is, in case we want to come back to it later\n",
    "data['clean_text'] = data['text'].apply(regex_cleaner)"
   ]
  },
  {
   "cell_type": "code",
   "execution_count": 18,
   "metadata": {},
   "outputs": [
    {
     "data": {
      "text/html": [
       "<div>\n",
       "<style scoped>\n",
       "    .dataframe tbody tr th:only-of-type {\n",
       "        vertical-align: middle;\n",
       "    }\n",
       "\n",
       "    .dataframe tbody tr th {\n",
       "        vertical-align: top;\n",
       "    }\n",
       "\n",
       "    .dataframe thead th {\n",
       "        text-align: right;\n",
       "    }\n",
       "</style>\n",
       "<table border=\"1\" class=\"dataframe\">\n",
       "  <thead>\n",
       "    <tr style=\"text-align: right;\">\n",
       "      <th></th>\n",
       "      <th>user_id</th>\n",
       "      <th>screen_name</th>\n",
       "      <th>text</th>\n",
       "      <th>retweet_count</th>\n",
       "      <th>favorite_count</th>\n",
       "      <th>verified</th>\n",
       "      <th>clean_text</th>\n",
       "    </tr>\n",
       "  </thead>\n",
       "  <tbody>\n",
       "    <tr>\n",
       "      <th>1132</th>\n",
       "      <td>1.260501e+09</td>\n",
       "      <td>AndreaJ152230</td>\n",
       "      <td>@Apple my phone works just fine thanks https:/...</td>\n",
       "      <td>0</td>\n",
       "      <td>0</td>\n",
       "      <td>False</td>\n",
       "      <td>my phone works just fine thanks</td>\n",
       "    </tr>\n",
       "  </tbody>\n",
       "</table>\n",
       "</div>"
      ],
      "text/plain": [
       "           user_id    screen_name  \\\n",
       "1132  1.260501e+09  AndreaJ152230   \n",
       "\n",
       "                                                   text  retweet_count  \\\n",
       "1132  @Apple my phone works just fine thanks https:/...              0   \n",
       "\n",
       "      favorite_count  verified                         clean_text  \n",
       "1132               0     False   my phone works just fine thanks   "
      ]
     },
     "execution_count": 18,
     "metadata": {},
     "output_type": "execute_result"
    }
   ],
   "source": [
    "data.sample()"
   ]
  },
  {
   "cell_type": "markdown",
   "metadata": {},
   "source": [
    "### 1. Tokenization"
   ]
  },
  {
   "cell_type": "markdown",
   "metadata": {},
   "source": [
    "#### A simple example:"
   ]
  },
  {
   "cell_type": "code",
   "execution_count": 19,
   "metadata": {},
   "outputs": [],
   "source": [
    "example_text = \"Hello Mrs. Robinson, how are you doing? What a wonderful day! Let's get coding. Don't be evil.\""
   ]
  },
  {
   "cell_type": "code",
   "execution_count": 20,
   "metadata": {},
   "outputs": [
    {
     "name": "stdout",
     "output_type": "stream",
     "text": [
      "['Hello Mrs. Robinson, how are you doing?', 'What a wonderful day!', \"Let's get coding.\", \"Don't be evil.\"]\n"
     ]
    }
   ],
   "source": [
    "# tokenize example text by sentence\n",
    "sentences = nltk.sent_tokenize(example_text)\n",
    "print(sentences)"
   ]
  },
  {
   "cell_type": "code",
   "execution_count": 21,
   "metadata": {},
   "outputs": [
    {
     "name": "stdout",
     "output_type": "stream",
     "text": [
      "['Hello', 'Mrs.', 'Robinson', ',', 'how', 'are', 'you', 'doing', '?', 'What', 'a', 'wonderful', 'day', '!', 'Let', \"'s\", 'get', 'coding', '.', 'Do', \"n't\", 'be', 'evil', '.']\n"
     ]
    }
   ],
   "source": [
    "# tokenize example text by word\n",
    "tokens = nltk.word_tokenize(example_text)\n",
    "print(tokens)"
   ]
  },
  {
   "cell_type": "markdown",
   "metadata": {},
   "source": [
    "#### Tokenizing our tweets:"
   ]
  },
  {
   "cell_type": "code",
   "execution_count": 22,
   "metadata": {},
   "outputs": [],
   "source": [
    "# convert all tweets to lowercase\n",
    "data['clean_text'] = data['clean_text'].str.lower()"
   ]
  },
  {
   "cell_type": "code",
   "execution_count": 23,
   "metadata": {},
   "outputs": [],
   "source": [
    "# apply word tokenizer to each tweet in dataset\n",
    "data['tokens'] = data['clean_text'].apply(nltk.word_tokenize)"
   ]
  },
  {
   "cell_type": "code",
   "execution_count": 24,
   "metadata": {
    "scrolled": true
   },
   "outputs": [
    {
     "data": {
      "text/plain": [
       "4064      [imo, just, punishment, for, buying, apple, xd]\n",
       "4578    [bring, this, ipad, to, the, india, i, am, not...\n",
       "6344    [i, hate, your, freaking, guts, out, of, all, ...\n",
       "2254    [at, this, point, they, need, to, just, let, j...\n",
       "5199    [the, most, annoying, part, is, that, the, iph...\n",
       "Name: tokens, dtype: object"
      ]
     },
     "execution_count": 24,
     "metadata": {},
     "output_type": "execute_result"
    }
   ],
   "source": [
    "# display the result\n",
    "data['tokens'].sample(5)"
   ]
  },
  {
   "cell_type": "markdown",
   "metadata": {},
   "source": [
    "### 2. Stopwords removal"
   ]
  },
  {
   "cell_type": "code",
   "execution_count": 25,
   "metadata": {},
   "outputs": [
    {
     "data": {
      "text/plain": [
       "['i',\n",
       " 'me',\n",
       " 'my',\n",
       " 'myself',\n",
       " 'we',\n",
       " 'our',\n",
       " 'ours',\n",
       " 'ourselves',\n",
       " 'you',\n",
       " \"you're\",\n",
       " \"you've\",\n",
       " \"you'll\",\n",
       " \"you'd\",\n",
       " 'your',\n",
       " 'yours',\n",
       " 'yourself',\n",
       " 'yourselves',\n",
       " 'he',\n",
       " 'him',\n",
       " 'his',\n",
       " 'himself',\n",
       " 'she',\n",
       " \"she's\",\n",
       " 'her',\n",
       " 'hers',\n",
       " 'herself',\n",
       " 'it',\n",
       " \"it's\",\n",
       " 'its',\n",
       " 'itself',\n",
       " 'they',\n",
       " 'them',\n",
       " 'their',\n",
       " 'theirs',\n",
       " 'themselves',\n",
       " 'what',\n",
       " 'which',\n",
       " 'who',\n",
       " 'whom',\n",
       " 'this',\n",
       " 'that',\n",
       " \"that'll\",\n",
       " 'these',\n",
       " 'those',\n",
       " 'am',\n",
       " 'is',\n",
       " 'are',\n",
       " 'was',\n",
       " 'were',\n",
       " 'be',\n",
       " 'been',\n",
       " 'being',\n",
       " 'have',\n",
       " 'has',\n",
       " 'had',\n",
       " 'having',\n",
       " 'do',\n",
       " 'does',\n",
       " 'did',\n",
       " 'doing',\n",
       " 'a',\n",
       " 'an',\n",
       " 'the',\n",
       " 'and',\n",
       " 'but',\n",
       " 'if',\n",
       " 'or',\n",
       " 'because',\n",
       " 'as',\n",
       " 'until',\n",
       " 'while',\n",
       " 'of',\n",
       " 'at',\n",
       " 'by',\n",
       " 'for',\n",
       " 'with',\n",
       " 'about',\n",
       " 'against',\n",
       " 'between',\n",
       " 'into',\n",
       " 'through',\n",
       " 'during',\n",
       " 'before',\n",
       " 'after',\n",
       " 'above',\n",
       " 'below',\n",
       " 'to',\n",
       " 'from',\n",
       " 'up',\n",
       " 'down',\n",
       " 'in',\n",
       " 'out',\n",
       " 'on',\n",
       " 'off',\n",
       " 'over',\n",
       " 'under',\n",
       " 'again',\n",
       " 'further',\n",
       " 'then',\n",
       " 'once',\n",
       " 'here',\n",
       " 'there',\n",
       " 'when',\n",
       " 'where',\n",
       " 'why',\n",
       " 'how',\n",
       " 'all',\n",
       " 'any',\n",
       " 'both',\n",
       " 'each',\n",
       " 'few',\n",
       " 'more',\n",
       " 'most',\n",
       " 'other',\n",
       " 'some',\n",
       " 'such',\n",
       " 'no',\n",
       " 'nor',\n",
       " 'not',\n",
       " 'only',\n",
       " 'own',\n",
       " 'same',\n",
       " 'so',\n",
       " 'than',\n",
       " 'too',\n",
       " 'very',\n",
       " 's',\n",
       " 't',\n",
       " 'can',\n",
       " 'will',\n",
       " 'just',\n",
       " 'don',\n",
       " \"don't\",\n",
       " 'should',\n",
       " \"should've\",\n",
       " 'now',\n",
       " 'd',\n",
       " 'll',\n",
       " 'm',\n",
       " 'o',\n",
       " 're',\n",
       " 've',\n",
       " 'y',\n",
       " 'ain',\n",
       " 'aren',\n",
       " \"aren't\",\n",
       " 'couldn',\n",
       " \"couldn't\",\n",
       " 'didn',\n",
       " \"didn't\",\n",
       " 'doesn',\n",
       " \"doesn't\",\n",
       " 'hadn',\n",
       " \"hadn't\",\n",
       " 'hasn',\n",
       " \"hasn't\",\n",
       " 'haven',\n",
       " \"haven't\",\n",
       " 'isn',\n",
       " \"isn't\",\n",
       " 'ma',\n",
       " 'mightn',\n",
       " \"mightn't\",\n",
       " 'mustn',\n",
       " \"mustn't\",\n",
       " 'needn',\n",
       " \"needn't\",\n",
       " 'shan',\n",
       " \"shan't\",\n",
       " 'shouldn',\n",
       " \"shouldn't\",\n",
       " 'wasn',\n",
       " \"wasn't\",\n",
       " 'weren',\n",
       " \"weren't\",\n",
       " 'won',\n",
       " \"won't\",\n",
       " 'wouldn',\n",
       " \"wouldn't\"]"
      ]
     },
     "execution_count": 25,
     "metadata": {},
     "output_type": "execute_result"
    }
   ],
   "source": [
    "# display a list of NLTK stopwords in English\n",
    "nltk.corpus.stopwords.words('english')"
   ]
  },
  {
   "cell_type": "code",
   "execution_count": 26,
   "metadata": {},
   "outputs": [
    {
     "data": {
      "text/plain": [
       "['и',\n",
       " 'в',\n",
       " 'во',\n",
       " 'не',\n",
       " 'что',\n",
       " 'он',\n",
       " 'на',\n",
       " 'я',\n",
       " 'с',\n",
       " 'со',\n",
       " 'как',\n",
       " 'а',\n",
       " 'то',\n",
       " 'все',\n",
       " 'она',\n",
       " 'так',\n",
       " 'его',\n",
       " 'но',\n",
       " 'да',\n",
       " 'ты',\n",
       " 'к',\n",
       " 'у',\n",
       " 'же',\n",
       " 'вы',\n",
       " 'за',\n",
       " 'бы',\n",
       " 'по',\n",
       " 'только',\n",
       " 'ее',\n",
       " 'мне',\n",
       " 'было',\n",
       " 'вот',\n",
       " 'от',\n",
       " 'меня',\n",
       " 'еще',\n",
       " 'нет',\n",
       " 'о',\n",
       " 'из',\n",
       " 'ему',\n",
       " 'теперь',\n",
       " 'когда',\n",
       " 'даже',\n",
       " 'ну',\n",
       " 'вдруг',\n",
       " 'ли',\n",
       " 'если',\n",
       " 'уже',\n",
       " 'или',\n",
       " 'ни',\n",
       " 'быть',\n",
       " 'был',\n",
       " 'него',\n",
       " 'до',\n",
       " 'вас',\n",
       " 'нибудь',\n",
       " 'опять',\n",
       " 'уж',\n",
       " 'вам',\n",
       " 'ведь',\n",
       " 'там',\n",
       " 'потом',\n",
       " 'себя',\n",
       " 'ничего',\n",
       " 'ей',\n",
       " 'может',\n",
       " 'они',\n",
       " 'тут',\n",
       " 'где',\n",
       " 'есть',\n",
       " 'надо',\n",
       " 'ней',\n",
       " 'для',\n",
       " 'мы',\n",
       " 'тебя',\n",
       " 'их',\n",
       " 'чем',\n",
       " 'была',\n",
       " 'сам',\n",
       " 'чтоб',\n",
       " 'без',\n",
       " 'будто',\n",
       " 'чего',\n",
       " 'раз',\n",
       " 'тоже',\n",
       " 'себе',\n",
       " 'под',\n",
       " 'будет',\n",
       " 'ж',\n",
       " 'тогда',\n",
       " 'кто',\n",
       " 'этот',\n",
       " 'того',\n",
       " 'потому',\n",
       " 'этого',\n",
       " 'какой',\n",
       " 'совсем',\n",
       " 'ним',\n",
       " 'здесь',\n",
       " 'этом',\n",
       " 'один',\n",
       " 'почти',\n",
       " 'мой',\n",
       " 'тем',\n",
       " 'чтобы',\n",
       " 'нее',\n",
       " 'сейчас',\n",
       " 'были',\n",
       " 'куда',\n",
       " 'зачем',\n",
       " 'всех',\n",
       " 'никогда',\n",
       " 'можно',\n",
       " 'при',\n",
       " 'наконец',\n",
       " 'два',\n",
       " 'об',\n",
       " 'другой',\n",
       " 'хоть',\n",
       " 'после',\n",
       " 'над',\n",
       " 'больше',\n",
       " 'тот',\n",
       " 'через',\n",
       " 'эти',\n",
       " 'нас',\n",
       " 'про',\n",
       " 'всего',\n",
       " 'них',\n",
       " 'какая',\n",
       " 'много',\n",
       " 'разве',\n",
       " 'три',\n",
       " 'эту',\n",
       " 'моя',\n",
       " 'впрочем',\n",
       " 'хорошо',\n",
       " 'свою',\n",
       " 'этой',\n",
       " 'перед',\n",
       " 'иногда',\n",
       " 'лучше',\n",
       " 'чуть',\n",
       " 'том',\n",
       " 'нельзя',\n",
       " 'такой',\n",
       " 'им',\n",
       " 'более',\n",
       " 'всегда',\n",
       " 'конечно',\n",
       " 'всю',\n",
       " 'между']"
      ]
     },
     "execution_count": 26,
     "metadata": {},
     "output_type": "execute_result"
    }
   ],
   "source": [
    "# NLTK has stopwords lists in other languages too\n",
    "nltk.corpus.stopwords.words('russian')"
   ]
  },
  {
   "cell_type": "markdown",
   "metadata": {},
   "source": [
    "### Challenge\n",
    "Remove all (English) stopwords from the tweets in our dataset."
   ]
  },
  {
   "cell_type": "code",
   "execution_count": 27,
   "metadata": {},
   "outputs": [],
   "source": [
    "# store the list of stopwords\n",
    "stops = nltk.corpus.stopwords.words(\"english\")"
   ]
  },
  {
   "cell_type": "code",
   "execution_count": 28,
   "metadata": {},
   "outputs": [],
   "source": [
    "# add words to the stopwords list that are not interesting in the context of our Tweets\n",
    "stops.extend([\"apple\", \"aapl\", \"phone\", \"iphone\"])"
   ]
  },
  {
   "cell_type": "code",
   "execution_count": 29,
   "metadata": {},
   "outputs": [],
   "source": [
    "# define a function which extract all non-stopword tokens\n",
    "def stop_remove(tokens_list):\n",
    "    return [token for token in tokens_list if token not in stops]"
   ]
  },
  {
   "cell_type": "code",
   "execution_count": 30,
   "metadata": {},
   "outputs": [],
   "source": [
    "# apply stopwords removal to each tokenised tweet\n",
    "data[\"tokens\"] = data[\"tokens\"].apply(stop_remove)"
   ]
  },
  {
   "cell_type": "code",
   "execution_count": 31,
   "metadata": {},
   "outputs": [
    {
     "data": {
      "text/plain": [
       "'It’s true that @Apple likely overpriced the latest iPhones in a mature market, especially in China. And that it therefore overestimated revenues and earnings. But, people, please remember that the shortfall meant they took in “only” $84 billion in 90 days instead of $93 billion.'"
      ]
     },
     "execution_count": 31,
     "metadata": {},
     "output_type": "execute_result"
    }
   ],
   "source": [
    "data['text'][0]"
   ]
  },
  {
   "cell_type": "code",
   "execution_count": 32,
   "metadata": {},
   "outputs": [
    {
     "data": {
      "text/plain": [
       "'it s true that likely overpriced the latest iphones in a mature market especially in china and that it therefore overestimated revenues and earnings but people please remember that the shortfall meant they took in only billion in 90 days instead of billion '"
      ]
     },
     "execution_count": 32,
     "metadata": {},
     "output_type": "execute_result"
    }
   ],
   "source": [
    "data['clean_text'][0]"
   ]
  },
  {
   "cell_type": "code",
   "execution_count": 33,
   "metadata": {},
   "outputs": [
    {
     "data": {
      "text/plain": [
       "['true',\n",
       " 'likely',\n",
       " 'overpriced',\n",
       " 'latest',\n",
       " 'iphones',\n",
       " 'mature',\n",
       " 'market',\n",
       " 'especially',\n",
       " 'china',\n",
       " 'therefore',\n",
       " 'overestimated',\n",
       " 'revenues',\n",
       " 'earnings',\n",
       " 'people',\n",
       " 'please',\n",
       " 'remember',\n",
       " 'shortfall',\n",
       " 'meant',\n",
       " 'took',\n",
       " 'billion',\n",
       " '90',\n",
       " 'days',\n",
       " 'instead',\n",
       " 'billion']"
      ]
     },
     "execution_count": 33,
     "metadata": {},
     "output_type": "execute_result"
    }
   ],
   "source": [
    "data['tokens'][0]"
   ]
  },
  {
   "cell_type": "code",
   "execution_count": 34,
   "metadata": {},
   "outputs": [],
   "source": [
    "# store stopword-less text in clean_text by joining tokens into a single string for each tweet\n",
    "data['clean_text'] = data['tokens'].apply(' '.join)"
   ]
  },
  {
   "cell_type": "markdown",
   "metadata": {},
   "source": [
    "## Simple Sentiment Analysis\n",
    "\n",
    "In this section we'll be using Vader, a sentiment analysis tool built into NLTK that is designed to work with social media data."
   ]
  },
  {
   "cell_type": "code",
   "execution_count": 35,
   "metadata": {},
   "outputs": [
    {
     "name": "stderr",
     "output_type": "stream",
     "text": [
      "[nltk_data] Downloading package vader_lexicon to\n",
      "[nltk_data]     /Users/nicholas.ward/nltk_data...\n",
      "[nltk_data]   Package vader_lexicon is already up-to-date!\n"
     ]
    }
   ],
   "source": [
    "# create an NLTK sentiment analyser object\n",
    "nltk.download('vader_lexicon') # download the first time\n",
    "vader = nltk.sentiment.SentimentIntensityAnalyzer()"
   ]
  },
  {
   "cell_type": "code",
   "execution_count": 36,
   "metadata": {},
   "outputs": [
    {
     "data": {
      "text/plain": [
       "{'neg': 0.0, 'neu': 0.408, 'pos': 0.592, 'compound': 0.4404}"
      ]
     },
     "execution_count": 36,
     "metadata": {},
     "output_type": "execute_result"
    }
   ],
   "source": [
    "# example of positive scoring\n",
    "vader.polarity_scores(\"this is good\")"
   ]
  },
  {
   "cell_type": "code",
   "execution_count": 37,
   "metadata": {},
   "outputs": [
    {
     "data": {
      "text/plain": [
       "{'neg': 0.636, 'neu': 0.364, 'pos': 0.0, 'compound': -0.5423}"
      ]
     },
     "execution_count": 37,
     "metadata": {},
     "output_type": "execute_result"
    }
   ],
   "source": [
    "# example of negative scoring\n",
    "vader.polarity_scores(\"this is bad\")"
   ]
  },
  {
   "cell_type": "markdown",
   "metadata": {},
   "source": [
    "`.polarity_scores(text)` returns a dictionary of four values. The important one is \"compound\". This is a score between -1 (very negative) and 1 (very positive) for the whole text."
   ]
  },
  {
   "cell_type": "code",
   "execution_count": 38,
   "metadata": {},
   "outputs": [],
   "source": [
    "# define a function to extract the sentiment score of a text\n",
    "def get_sentiment(text):\n",
    "    return vader.polarity_scores(text)[\"compound\"]"
   ]
  },
  {
   "cell_type": "code",
   "execution_count": 39,
   "metadata": {},
   "outputs": [],
   "source": [
    "# apply the sentiment analyser to the entire dataset\n",
    "data['sentiment'] = data[\"clean_text\"].apply(get_sentiment)\n",
    "\n",
    "# each line above creates a new column; each value in the column is the result of passing the text of that row\n",
    "# through the sentiment analyser and selecting the \"compound\" attribute"
   ]
  },
  {
   "cell_type": "code",
   "execution_count": 40,
   "metadata": {},
   "outputs": [
    {
     "data": {
      "text/html": [
       "<div>\n",
       "<style scoped>\n",
       "    .dataframe tbody tr th:only-of-type {\n",
       "        vertical-align: middle;\n",
       "    }\n",
       "\n",
       "    .dataframe tbody tr th {\n",
       "        vertical-align: top;\n",
       "    }\n",
       "\n",
       "    .dataframe thead th {\n",
       "        text-align: right;\n",
       "    }\n",
       "</style>\n",
       "<table border=\"1\" class=\"dataframe\">\n",
       "  <thead>\n",
       "    <tr style=\"text-align: right;\">\n",
       "      <th></th>\n",
       "      <th>user_id</th>\n",
       "      <th>screen_name</th>\n",
       "      <th>text</th>\n",
       "      <th>retweet_count</th>\n",
       "      <th>favorite_count</th>\n",
       "      <th>verified</th>\n",
       "      <th>clean_text</th>\n",
       "      <th>tokens</th>\n",
       "      <th>sentiment</th>\n",
       "    </tr>\n",
       "  </thead>\n",
       "  <tbody>\n",
       "    <tr>\n",
       "      <th>8876</th>\n",
       "      <td>8.840000e+17</td>\n",
       "      <td>Pathani_chahiye</td>\n",
       "      <td>@dafahojaen @Apple @fries @fries Hey!! Can you...</td>\n",
       "      <td>0</td>\n",
       "      <td>0</td>\n",
       "      <td>False</td>\n",
       "      <td>hey please say hi</td>\n",
       "      <td>[hey, please, say, hi]</td>\n",
       "      <td>0.3182</td>\n",
       "    </tr>\n",
       "    <tr>\n",
       "      <th>619</th>\n",
       "      <td>1.050000e+18</td>\n",
       "      <td>Deyubzz1</td>\n",
       "      <td>Demo of MAJOR FaceTime Bug That Lets People Sp...</td>\n",
       "      <td>0</td>\n",
       "      <td>0</td>\n",
       "      <td>False</td>\n",
       "      <td>demo major facetime bug lets people spy via</td>\n",
       "      <td>[demo, major, facetime, bug, lets, people, spy...</td>\n",
       "      <td>0.0000</td>\n",
       "    </tr>\n",
       "    <tr>\n",
       "      <th>252</th>\n",
       "      <td>1.878673e+09</td>\n",
       "      <td>thecoolfattykid</td>\n",
       "      <td>@teenivineet @GamerHitechTG @OnePlus_IN @Apple...</td>\n",
       "      <td>0</td>\n",
       "      <td>1</td>\n",
       "      <td>False</td>\n",
       "      <td>talk abt trump dude publicity stunt</td>\n",
       "      <td>[talk, abt, trump, dude, publicity, stunt]</td>\n",
       "      <td>0.0000</td>\n",
       "    </tr>\n",
       "    <tr>\n",
       "      <th>3708</th>\n",
       "      <td>1.277829e+08</td>\n",
       "      <td>FOSSpatents</td>\n",
       "      <td>@ks_dsp @Apple Far-fetched connection with the...</td>\n",
       "      <td>0</td>\n",
       "      <td>0</td>\n",
       "      <td>False</td>\n",
       "      <td>far fetched connection trial</td>\n",
       "      <td>[far, fetched, connection, trial]</td>\n",
       "      <td>0.0000</td>\n",
       "    </tr>\n",
       "    <tr>\n",
       "      <th>4167</th>\n",
       "      <td>2.990172e+09</td>\n",
       "      <td>algametrade</td>\n",
       "      <td>@waxpancake Sounds like @Apple left their BACK...</td>\n",
       "      <td>0</td>\n",
       "      <td>0</td>\n",
       "      <td>False</td>\n",
       "      <td>sounds like left back door open accident</td>\n",
       "      <td>[sounds, like, left, back, door, open, accident]</td>\n",
       "      <td>-0.1531</td>\n",
       "    </tr>\n",
       "  </tbody>\n",
       "</table>\n",
       "</div>"
      ],
      "text/plain": [
       "           user_id      screen_name  \\\n",
       "8876  8.840000e+17  Pathani_chahiye   \n",
       "619   1.050000e+18         Deyubzz1   \n",
       "252   1.878673e+09  thecoolfattykid   \n",
       "3708  1.277829e+08      FOSSpatents   \n",
       "4167  2.990172e+09      algametrade   \n",
       "\n",
       "                                                   text  retweet_count  \\\n",
       "8876  @dafahojaen @Apple @fries @fries Hey!! Can you...              0   \n",
       "619   Demo of MAJOR FaceTime Bug That Lets People Sp...              0   \n",
       "252   @teenivineet @GamerHitechTG @OnePlus_IN @Apple...              0   \n",
       "3708  @ks_dsp @Apple Far-fetched connection with the...              0   \n",
       "4167  @waxpancake Sounds like @Apple left their BACK...              0   \n",
       "\n",
       "      favorite_count  verified                                   clean_text  \\\n",
       "8876               0     False                            hey please say hi   \n",
       "619                0     False  demo major facetime bug lets people spy via   \n",
       "252                1     False          talk abt trump dude publicity stunt   \n",
       "3708               0     False                 far fetched connection trial   \n",
       "4167               0     False     sounds like left back door open accident   \n",
       "\n",
       "                                                 tokens  sentiment  \n",
       "8876                             [hey, please, say, hi]     0.3182  \n",
       "619   [demo, major, facetime, bug, lets, people, spy...     0.0000  \n",
       "252          [talk, abt, trump, dude, publicity, stunt]     0.0000  \n",
       "3708                  [far, fetched, connection, trial]     0.0000  \n",
       "4167   [sounds, like, left, back, door, open, accident]    -0.1531  "
      ]
     },
     "execution_count": 40,
     "metadata": {},
     "output_type": "execute_result"
    }
   ],
   "source": [
    "# check the data - notice that the score changes \n",
    "data.sample(5)"
   ]
  },
  {
   "cell_type": "markdown",
   "metadata": {},
   "source": [
    "#### Challenge: view the most positive/negative tweets"
   ]
  },
  {
   "cell_type": "code",
   "execution_count": 41,
   "metadata": {},
   "outputs": [
    {
     "data": {
      "text/html": [
       "<div>\n",
       "<style scoped>\n",
       "    .dataframe tbody tr th:only-of-type {\n",
       "        vertical-align: middle;\n",
       "    }\n",
       "\n",
       "    .dataframe tbody tr th {\n",
       "        vertical-align: top;\n",
       "    }\n",
       "\n",
       "    .dataframe thead th {\n",
       "        text-align: right;\n",
       "    }\n",
       "</style>\n",
       "<table border=\"1\" class=\"dataframe\">\n",
       "  <thead>\n",
       "    <tr style=\"text-align: right;\">\n",
       "      <th></th>\n",
       "      <th>user_id</th>\n",
       "      <th>screen_name</th>\n",
       "      <th>text</th>\n",
       "      <th>retweet_count</th>\n",
       "      <th>favorite_count</th>\n",
       "      <th>verified</th>\n",
       "      <th>clean_text</th>\n",
       "      <th>tokens</th>\n",
       "      <th>sentiment</th>\n",
       "    </tr>\n",
       "  </thead>\n",
       "  <tbody>\n",
       "    <tr>\n",
       "      <th>3604</th>\n",
       "      <td>9.920000e+17</td>\n",
       "      <td>RadhanMohammed</td>\n",
       "      <td>@Apple\\n@tim_cookI Haven't Used An Apple IPhon...</td>\n",
       "      <td>1</td>\n",
       "      <td>1</td>\n",
       "      <td>False</td>\n",
       "      <td>used yet amp hope use world best ever design f...</td>\n",
       "      <td>[used, yet, amp, hope, use, world, best, ever,...</td>\n",
       "      <td>0.9753</td>\n",
       "    </tr>\n",
       "    <tr>\n",
       "      <th>9158</th>\n",
       "      <td>2.240910e+07</td>\n",
       "      <td>ruinsoares</td>\n",
       "      <td>@nytorv @Apple @tim_cook Completely agree; Xs ...</td>\n",
       "      <td>0</td>\n",
       "      <td>0</td>\n",
       "      <td>False</td>\n",
       "      <td>completely agree xs max amazing marvelous fant...</td>\n",
       "      <td>[completely, agree, xs, max, amazing, marvelou...</td>\n",
       "      <td>0.9719</td>\n",
       "    </tr>\n",
       "    <tr>\n",
       "      <th>1555</th>\n",
       "      <td>9.020000e+17</td>\n",
       "      <td>MarkCryptos</td>\n",
       "      <td>Good @apple, great ad. Now just add some digit...</td>\n",
       "      <td>0</td>\n",
       "      <td>0</td>\n",
       "      <td>False</td>\n",
       "      <td>good great ad add digital assets next one grea...</td>\n",
       "      <td>[good, great, ad, add, digital, assets, next, ...</td>\n",
       "      <td>0.9712</td>\n",
       "    </tr>\n",
       "    <tr>\n",
       "      <th>1129</th>\n",
       "      <td>1.126049e+09</td>\n",
       "      <td>Sayan_techy</td>\n",
       "      <td>I just love my Apple Watch ⌚️ which always mot...</td>\n",
       "      <td>0</td>\n",
       "      <td>0</td>\n",
       "      <td>False</td>\n",
       "      <td>love watch always motivates encourages fill ri...</td>\n",
       "      <td>[love, watch, always, motivates, encourages, f...</td>\n",
       "      <td>0.9690</td>\n",
       "    </tr>\n",
       "    <tr>\n",
       "      <th>4709</th>\n",
       "      <td>2.223253e+09</td>\n",
       "      <td>SangeloValentin</td>\n",
       "      <td>FaceTime,  She has a beautiful young Fac and I...</td>\n",
       "      <td>0</td>\n",
       "      <td>0</td>\n",
       "      <td>False</td>\n",
       "      <td>facetime beautiful young fac love time day kee...</td>\n",
       "      <td>[facetime, beautiful, young, fac, love, time, ...</td>\n",
       "      <td>0.9618</td>\n",
       "    </tr>\n",
       "  </tbody>\n",
       "</table>\n",
       "</div>"
      ],
      "text/plain": [
       "           user_id      screen_name  \\\n",
       "3604  9.920000e+17   RadhanMohammed   \n",
       "9158  2.240910e+07       ruinsoares   \n",
       "1555  9.020000e+17      MarkCryptos   \n",
       "1129  1.126049e+09      Sayan_techy   \n",
       "4709  2.223253e+09  SangeloValentin   \n",
       "\n",
       "                                                   text  retweet_count  \\\n",
       "3604  @Apple\\n@tim_cookI Haven't Used An Apple IPhon...              1   \n",
       "9158  @nytorv @Apple @tim_cook Completely agree; Xs ...              0   \n",
       "1555  Good @apple, great ad. Now just add some digit...              0   \n",
       "1129  I just love my Apple Watch ⌚️ which always mot...              0   \n",
       "4709  FaceTime,  She has a beautiful young Fac and I...              0   \n",
       "\n",
       "      favorite_count  verified  \\\n",
       "3604               1     False   \n",
       "9158               0     False   \n",
       "1555               0     False   \n",
       "1129               0     False   \n",
       "4709               0     False   \n",
       "\n",
       "                                             clean_text  \\\n",
       "3604  used yet amp hope use world best ever design f...   \n",
       "9158  completely agree xs max amazing marvelous fant...   \n",
       "1555  good great ad add digital assets next one grea...   \n",
       "1129  love watch always motivates encourages fill ri...   \n",
       "4709  facetime beautiful young fac love time day kee...   \n",
       "\n",
       "                                                 tokens  sentiment  \n",
       "3604  [used, yet, amp, hope, use, world, best, ever,...     0.9753  \n",
       "9158  [completely, agree, xs, max, amazing, marvelou...     0.9719  \n",
       "1555  [good, great, ad, add, digital, assets, next, ...     0.9712  \n",
       "1129  [love, watch, always, motivates, encourages, f...     0.9690  \n",
       "4709  [facetime, beautiful, young, fac, love, time, ...     0.9618  "
      ]
     },
     "execution_count": 41,
     "metadata": {},
     "output_type": "execute_result"
    }
   ],
   "source": [
    "# view the most positive tweets\n",
    "data.sort_values(by = \"sentiment\", ascending = False).head()"
   ]
  },
  {
   "cell_type": "code",
   "execution_count": 42,
   "metadata": {},
   "outputs": [
    {
     "data": {
      "text/html": [
       "<div>\n",
       "<style scoped>\n",
       "    .dataframe tbody tr th:only-of-type {\n",
       "        vertical-align: middle;\n",
       "    }\n",
       "\n",
       "    .dataframe tbody tr th {\n",
       "        vertical-align: top;\n",
       "    }\n",
       "\n",
       "    .dataframe thead th {\n",
       "        text-align: right;\n",
       "    }\n",
       "</style>\n",
       "<table border=\"1\" class=\"dataframe\">\n",
       "  <thead>\n",
       "    <tr style=\"text-align: right;\">\n",
       "      <th></th>\n",
       "      <th>user_id</th>\n",
       "      <th>screen_name</th>\n",
       "      <th>text</th>\n",
       "      <th>retweet_count</th>\n",
       "      <th>favorite_count</th>\n",
       "      <th>verified</th>\n",
       "      <th>clean_text</th>\n",
       "      <th>tokens</th>\n",
       "      <th>sentiment</th>\n",
       "    </tr>\n",
       "  </thead>\n",
       "  <tbody>\n",
       "    <tr>\n",
       "      <th>905</th>\n",
       "      <td>2.391311e+09</td>\n",
       "      <td>oneefficiency</td>\n",
       "      <td>@YahooFinance @Apple @EON_Sprecher @WMPolice @...</td>\n",
       "      <td>0</td>\n",
       "      <td>0</td>\n",
       "      <td>False</td>\n",
       "      <td>pointless chief investigation fraud worrying a...</td>\n",
       "      <td>[pointless, chief, investigation, fraud, worry...</td>\n",
       "      <td>-0.9869</td>\n",
       "    </tr>\n",
       "    <tr>\n",
       "      <th>5916</th>\n",
       "      <td>6.686688e+07</td>\n",
       "      <td>AllstarLee2724</td>\n",
       "      <td>Apple wrong as hell for that update, gettin mu...</td>\n",
       "      <td>2</td>\n",
       "      <td>1</td>\n",
       "      <td>False</td>\n",
       "      <td>wrong hell update gettin muthafuckas caught fu...</td>\n",
       "      <td>[wrong, hell, update, gettin, muthafuckas, cau...</td>\n",
       "      <td>-0.9690</td>\n",
       "    </tr>\n",
       "    <tr>\n",
       "      <th>288</th>\n",
       "      <td>9.580000e+17</td>\n",
       "      <td>JosephM29935902</td>\n",
       "      <td>@cspanwj @WhiteHouse @PressSec @GOP @DNC @TheJ...</td>\n",
       "      <td>0</td>\n",
       "      <td>0</td>\n",
       "      <td>False</td>\n",
       "      <td>1 imo biggest problem fake media tv ceo collus...</td>\n",
       "      <td>[1, imo, biggest, problem, fake, media, tv, ce...</td>\n",
       "      <td>-0.9571</td>\n",
       "    </tr>\n",
       "    <tr>\n",
       "      <th>5839</th>\n",
       "      <td>7.150000e+17</td>\n",
       "      <td>Laylowcdai</td>\n",
       "      <td>@Apple if y’all don’t get y’all ass on with th...</td>\n",
       "      <td>0</td>\n",
       "      <td>0</td>\n",
       "      <td>False</td>\n",
       "      <td>get ass dumb ass update bitch nigga take ass c...</td>\n",
       "      <td>[get, ass, dumb, ass, update, bitch, nigga, ta...</td>\n",
       "      <td>-0.9559</td>\n",
       "    </tr>\n",
       "    <tr>\n",
       "      <th>5826</th>\n",
       "      <td>2.563023e+08</td>\n",
       "      <td>Iam4evaMe</td>\n",
       "      <td>I’m abt to stop fucking with @Apple for this w...</td>\n",
       "      <td>0</td>\n",
       "      <td>0</td>\n",
       "      <td>False</td>\n",
       "      <td>abt stop fucking weak ass shit feds shit</td>\n",
       "      <td>[abt, stop, fucking, weak, ass, shit, feds, shit]</td>\n",
       "      <td>-0.9509</td>\n",
       "    </tr>\n",
       "  </tbody>\n",
       "</table>\n",
       "</div>"
      ],
      "text/plain": [
       "           user_id      screen_name  \\\n",
       "905   2.391311e+09    oneefficiency   \n",
       "5916  6.686688e+07   AllstarLee2724   \n",
       "288   9.580000e+17  JosephM29935902   \n",
       "5839  7.150000e+17       Laylowcdai   \n",
       "5826  2.563023e+08        Iam4evaMe   \n",
       "\n",
       "                                                   text  retweet_count  \\\n",
       "905   @YahooFinance @Apple @EON_Sprecher @WMPolice @...              0   \n",
       "5916  Apple wrong as hell for that update, gettin mu...              2   \n",
       "288   @cspanwj @WhiteHouse @PressSec @GOP @DNC @TheJ...              0   \n",
       "5839  @Apple if y’all don’t get y’all ass on with th...              0   \n",
       "5826  I’m abt to stop fucking with @Apple for this w...              0   \n",
       "\n",
       "      favorite_count  verified  \\\n",
       "905                0     False   \n",
       "5916               1     False   \n",
       "288                0     False   \n",
       "5839               0     False   \n",
       "5826               0     False   \n",
       "\n",
       "                                             clean_text  \\\n",
       "905   pointless chief investigation fraud worrying a...   \n",
       "5916  wrong hell update gettin muthafuckas caught fu...   \n",
       "288   1 imo biggest problem fake media tv ceo collus...   \n",
       "5839  get ass dumb ass update bitch nigga take ass c...   \n",
       "5826           abt stop fucking weak ass shit feds shit   \n",
       "\n",
       "                                                 tokens  sentiment  \n",
       "905   [pointless, chief, investigation, fraud, worry...    -0.9869  \n",
       "5916  [wrong, hell, update, gettin, muthafuckas, cau...    -0.9690  \n",
       "288   [1, imo, biggest, problem, fake, media, tv, ce...    -0.9571  \n",
       "5839  [get, ass, dumb, ass, update, bitch, nigga, ta...    -0.9559  \n",
       "5826  [abt, stop, fucking, weak, ass, shit, feds, shit]    -0.9509  "
      ]
     },
     "execution_count": 42,
     "metadata": {},
     "output_type": "execute_result"
    }
   ],
   "source": [
    "# view the most positive tweets\n",
    "data.sort_values(by = \"sentiment\").head()"
   ]
  },
  {
   "cell_type": "markdown",
   "metadata": {},
   "source": [
    "#### Challenge: create a dist plot; what does it suggest?"
   ]
  },
  {
   "cell_type": "code",
   "execution_count": 43,
   "metadata": {},
   "outputs": [
    {
     "data": {
      "text/plain": [
       "<matplotlib.axes._subplots.AxesSubplot at 0x7ff253a5bd00>"
      ]
     },
     "execution_count": 43,
     "metadata": {},
     "output_type": "execute_result"
    },
    {
     "data": {
      "image/png": "[encoded data removed]",
      "text/plain": [
       "<Figure size 432x288 with 1 Axes>"
      ]
     },
     "metadata": {
      "needs_background": "light"
     },
     "output_type": "display_data"
    }
   ],
   "source": [
    "# view the distribution of sentiment in the dataset\n",
    "sns.distplot(data[\"sentiment\"])"
   ]
  },
  {
   "cell_type": "markdown",
   "metadata": {},
   "source": [
    "Many of the tweets have neutral or mild sentiment, and aren't really interesting from a sentiment perspective. This is common for text data.\n",
    "\n",
    "#### Learner challenge: categorise the tweets based on their sentiment"
   ]
  },
  {
   "cell_type": "code",
   "execution_count": 44,
   "metadata": {},
   "outputs": [],
   "source": [
    "# add a positive/negative/neutral label to each tweet\n",
    "\n",
    "def get_sentiment_type(score):\n",
    "    if score >= 0.3:\n",
    "        return \"positive\"\n",
    "    elif score <= -0.3:\n",
    "        return \"negative\"\n",
    "    else:\n",
    "        return \"neutral\"\n",
    "\n",
    "data[\"sentiment_type\"] = data[\"sentiment\"].apply(get_sentiment_type)"
   ]
  },
  {
   "cell_type": "code",
   "execution_count": 45,
   "metadata": {},
   "outputs": [
    {
     "data": {
      "text/html": [
       "<div>\n",
       "<style scoped>\n",
       "    .dataframe tbody tr th:only-of-type {\n",
       "        vertical-align: middle;\n",
       "    }\n",
       "\n",
       "    .dataframe tbody tr th {\n",
       "        vertical-align: top;\n",
       "    }\n",
       "\n",
       "    .dataframe thead th {\n",
       "        text-align: right;\n",
       "    }\n",
       "</style>\n",
       "<table border=\"1\" class=\"dataframe\">\n",
       "  <thead>\n",
       "    <tr style=\"text-align: right;\">\n",
       "      <th></th>\n",
       "      <th>text</th>\n",
       "      <th>sentiment</th>\n",
       "      <th>sentiment_type</th>\n",
       "    </tr>\n",
       "  </thead>\n",
       "  <tbody>\n",
       "    <tr>\n",
       "      <th>7969</th>\n",
       "      <td>Anyone else having issues with this? I’m conne...</td>\n",
       "      <td>0.4767</td>\n",
       "      <td>positive</td>\n",
       "    </tr>\n",
       "    <tr>\n",
       "      <th>6504</th>\n",
       "      <td>@apple if y’all don’t fix this automatic answe...</td>\n",
       "      <td>-0.6908</td>\n",
       "      <td>negative</td>\n",
       "    </tr>\n",
       "  </tbody>\n",
       "</table>\n",
       "</div>"
      ],
      "text/plain": [
       "                                                   text  sentiment  \\\n",
       "7969  Anyone else having issues with this? I’m conne...     0.4767   \n",
       "6504  @apple if y’all don’t fix this automatic answe...    -0.6908   \n",
       "\n",
       "     sentiment_type  \n",
       "7969       positive  \n",
       "6504       negative  "
      ]
     },
     "execution_count": 45,
     "metadata": {},
     "output_type": "execute_result"
    }
   ],
   "source": [
    "# check the data\n",
    "data[[\"text\", \"sentiment\", \"sentiment_type\"]].sample(2)"
   ]
  },
  {
   "cell_type": "markdown",
   "metadata": {},
   "source": [
    "## Calculating frequencies"
   ]
  },
  {
   "cell_type": "code",
   "execution_count": 46,
   "metadata": {},
   "outputs": [],
   "source": [
    "# select the data we want to analyse\n",
    "# here, we select only tweets with a positive sentiment\n",
    "selection = data[\"tokens\"][data[\"sentiment_type\"] == \"positive\"]"
   ]
  },
  {
   "cell_type": "code",
   "execution_count": 47,
   "metadata": {},
   "outputs": [],
   "source": [
    "# join all the tokens together into a list of lists\n",
    "token_col = selection.to_list()"
   ]
  },
  {
   "cell_type": "code",
   "execution_count": 48,
   "metadata": {},
   "outputs": [],
   "source": [
    "# flatten the list into a single list of tokens\n",
    "tokens = list(flatten(token_col))"
   ]
  },
  {
   "cell_type": "code",
   "execution_count": 49,
   "metadata": {},
   "outputs": [],
   "source": [
    "# count how many times each token appears\n",
    "# this creates a dictionary with entries of the form (token: count)\n",
    "token_counts = Counter(tokens)"
   ]
  },
  {
   "cell_type": "code",
   "execution_count": 50,
   "metadata": {},
   "outputs": [
    {
     "name": "stdout",
     "output_type": "stream",
     "text": [
      "true            42\n",
      "likely           6\n",
      "overpriced       7\n",
      "latest          18\n",
      "iphones         53\n",
      "                ..\n",
      "centered         1\n",
      "accomplished     1\n",
      "pocketable       1\n",
      "operated         1\n",
      "dimensions       1\n",
      "Length: 7097, dtype: int64\n"
     ]
    }
   ],
   "source": [
    "# convert the counter dictionary into a sortable series\n",
    "token_counts = pd.Series(token_counts)\n",
    "print(token_counts)"
   ]
  },
  {
   "cell_type": "markdown",
   "metadata": {},
   "source": [
    "### Visualise the top 20 words\n",
    "\n",
    "#### Challenge: extract the 20 most frequent terms"
   ]
  },
  {
   "cell_type": "code",
   "execution_count": 51,
   "metadata": {},
   "outputs": [],
   "source": [
    "# get the top 20 terms\n",
    "top_twenty = token_counts.sort_values(ascending = False)[:20]"
   ]
  },
  {
   "cell_type": "markdown",
   "metadata": {},
   "source": [
    "#### Challenge: create a barplot of top 10 terms & frequencies"
   ]
  },
  {
   "cell_type": "code",
   "execution_count": 52,
   "metadata": {
    "scrolled": false
   },
   "outputs": [
    {
     "data": {
      "image/png": "[encoded data removed]",
      "text/plain": [
       "<Figure size 1152x576 with 1 Axes>"
      ]
     },
     "metadata": {
      "needs_background": "light"
     },
     "output_type": "display_data"
    }
   ],
   "source": [
    "# plot them as a barplot\n",
    "plt.figure(figsize = (16, 8))\n",
    "plt.xticks(rotation = 45)\n",
    "sns.barplot(x = top_twenty.index, y = top_twenty, palette = \"magma_r\")\n",
    "plt.show()"
   ]
  },
  {
   "cell_type": "markdown",
   "metadata": {},
   "source": [
    "## Summary:\n",
    "\n",
    "In this workshop, we covered:\n",
    "* Text filtering and normalisation using regular expressions\n",
    "* Stopwords removal\n",
    "* Tokenisation\n",
    "* Sentiment scoring\n",
    "* Word frequencies extraction and various visualisations\n",
    "\n",
    "See you in the Online Practice!"
   ]
  }
 ],
 "metadata": {
  "kernelspec": {
   "display_name": "Python 3",
   "language": "python",
   "name": "python3"
  },
  "language_info": {
   "codemirror_mode": {
    "name": "ipython",
    "version": 3
   },
   "file_extension": ".py",
   "mimetype": "text/x-python",
   "name": "python",
   "nbconvert_exporter": "python",
   "pygments_lexer": "ipython3",
   "version": "3.8.3"
  }
 },
 "nbformat": 4,
 "nbformat_minor": 2
}
